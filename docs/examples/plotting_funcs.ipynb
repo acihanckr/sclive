{
 "cells": [
  {
   "cell_type": "markdown",
   "metadata": {},
   "source": [
    "# Dimension Reduction Plots"
   ]
  },
  {
   "cell_type": "markdown",
   "metadata": {},
   "source": [
    "This notebook demonstrates how the plotting functions in ScLive can be used with AnnData objects.\n",
    "\n",
    "First we need to create an AnnData object with some annotations. The fastest way is to run scanpy pipeline with all the defaults (https://scanpy.readthedocs.io/en/stable/tutorials/basics/clustering.html).\n",
    "\n",
    "The following does exactly this. The code assumes that there is genomics data in a folder named test_data/pbmc in the root folder. The data can be downloaded from 10xgenomics website [here](https://cf.10xgenomics.com/samples/cell/pbmc3k/pbmc3k_filtered_gene_bc_matrices.tar.gz). It saves the resulting annotated data to an output file. This code doesn't run all the code in the related tutorial and it doesn't necessarily provide nice results as it serves as an example dataset. It also adds some dummy annotations for plotting purposes."
   ]
  },
  {
   "cell_type": "code",
   "execution_count": null,
   "metadata": {
    "vscode": {
     "languageId": "plaintext"
    }
   },
   "outputs": [],
   "source": [
    "import os\n",
    "import numpy as np\n",
    "import scanpy as sc\n",
    "import anndata"
   ]
  },
  {
   "cell_type": "code",
   "execution_count": null,
   "metadata": {
    "vscode": {
     "languageId": "plaintext"
    }
   },
   "outputs": [],
   "source": [
    "INPUT_PATH = \"../../test_data/pbmc\"\n",
    "OUTPUT_FILE = \"../../test_data/pbmc.h5ad\"\n",
    "if not os.path.exists(OUTPUT_FILE):         \n",
    "    adata = sc.read_10x_mtx(INPUT_PATH)\n",
    "    adata.var_names_make_unique() \n",
    "    \n",
    "    adata.var[\"mt\"] = adata.var_names.str.startswith(\"MT-\")\n",
    "    sc.pp.calculate_qc_metrics(\n",
    "        adata, qc_vars=[\"mt\"], percent_top=None, log1p=False, inplace=True\n",
    "    )\n",
    "\n",
    "    fake_cats = [\"A\", \"B\", \"C\"]\n",
    "    fake_dogs = [\"ALp\", \"Bet\"]\n",
    "    adata.obs[\"fake_cats\"] = np.random.choice(fake_cats, adata.n_obs)\n",
    "    adata.obs[\"fake_dogs\"] = np.random.choice(fake_dogs, adata.n_obs)\n",
    "\n",
    "    adata.layers[\"counts\"] = adata.X.copy()\n",
    "    sc.pp.normalize_total(adata)\n",
    "    sc.pp.log1p(adata)\n",
    "    sc.pp.highly_variable_genes(adata, n_top_genes=2000)\n",
    "\n",
    "    adata.raw = adata\n",
    "    adata = adata[:, adata.var.highly_variable]\n",
    "\n",
    "    sc.pp.regress_out(adata, [\"total_counts\", \"pct_counts_mt\"])\n",
    "    sc.pp.scale(adata, max_value=10)\n",
    "    sc.tl.pca(adata)\n",
    "    sc.pp.neighbors(adata)\n",
    "    sc.tl.umap(adata)\n",
    "    sc.tl.leiden(adata, flavor=\"igraph\", n_iterations=2)\n",
    "    sc.tl.rank_genes_groups(adata, groupby=\"leiden\", method=\"wilcoxon\")\n",
    "    adata.write(\"test_data/pbmc.h5ad\")\n",
    "else:\n",
    "    adata = anndata.io.read_h5ad(OUTPUT_FILE)"
   ]
  },
  {
   "cell_type": "markdown",
   "metadata": {},
   "source": [
    "## 2D Dimension Reduction Plot"
   ]
  },
  {
   "cell_type": "markdown",
   "metadata": {},
   "source": [
    "The plotting functions can be run with few parameters. The following code plots 2D umap of the data colored by leiden clusters."
   ]
  },
  {
   "cell_type": "code",
   "execution_count": null,
   "metadata": {
    "vscode": {
     "languageId": "plaintext"
    }
   },
   "outputs": [],
   "source": [
    "from sclive.plotting.dimred_plt_2d_func import dimred_plt_2d\n",
    "dimred_plt_2d(adata, \"X_umap\", \"leiden\")"
   ]
  }
 ],
 "metadata": {
  "language_info": {
   "name": "python"
  }
 },
 "nbformat": 4,
 "nbformat_minor": 2
}
